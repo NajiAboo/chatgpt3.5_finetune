{
  "nbformat": 4,
  "nbformat_minor": 0,
  "metadata": {
    "colab": {
      "provenance": []
    },
    "kernelspec": {
      "name": "python3",
      "display_name": "Python 3"
    },
    "language_info": {
      "name": "python"
    }
  },
  "cells": [
    {
      "cell_type": "code",
      "source": [
        "!pip install openai==1.12.0"
      ],
      "metadata": {
        "colab": {
          "base_uri": "https://localhost:8080/"
        },
        "id": "6iSjNfN2uyAf",
        "outputId": "db9a7cf4-4fbc-42eb-d2df-c01c7982947b"
      },
      "execution_count": null,
      "outputs": [
        {
          "output_type": "stream",
          "name": "stdout",
          "text": [
            "Requirement already satisfied: openai==1.12.0 in /usr/local/lib/python3.10/dist-packages (1.12.0)\n",
            "Requirement already satisfied: anyio<5,>=3.5.0 in /usr/local/lib/python3.10/dist-packages (from openai==1.12.0) (3.7.1)\n",
            "Requirement already satisfied: distro<2,>=1.7.0 in /usr/lib/python3/dist-packages (from openai==1.12.0) (1.7.0)\n",
            "Requirement already satisfied: httpx<1,>=0.23.0 in /usr/local/lib/python3.10/dist-packages (from openai==1.12.0) (0.26.0)\n",
            "Requirement already satisfied: pydantic<3,>=1.9.0 in /usr/local/lib/python3.10/dist-packages (from openai==1.12.0) (2.6.1)\n",
            "Requirement already satisfied: sniffio in /usr/local/lib/python3.10/dist-packages (from openai==1.12.0) (1.3.0)\n",
            "Requirement already satisfied: tqdm>4 in /usr/local/lib/python3.10/dist-packages (from openai==1.12.0) (4.66.2)\n",
            "Requirement already satisfied: typing-extensions<5,>=4.7 in /usr/local/lib/python3.10/dist-packages (from openai==1.12.0) (4.9.0)\n",
            "Requirement already satisfied: idna>=2.8 in /usr/local/lib/python3.10/dist-packages (from anyio<5,>=3.5.0->openai==1.12.0) (3.6)\n",
            "Requirement already satisfied: exceptiongroup in /usr/local/lib/python3.10/dist-packages (from anyio<5,>=3.5.0->openai==1.12.0) (1.2.0)\n",
            "Requirement already satisfied: certifi in /usr/local/lib/python3.10/dist-packages (from httpx<1,>=0.23.0->openai==1.12.0) (2024.2.2)\n",
            "Requirement already satisfied: httpcore==1.* in /usr/local/lib/python3.10/dist-packages (from httpx<1,>=0.23.0->openai==1.12.0) (1.0.3)\n",
            "Requirement already satisfied: h11<0.15,>=0.13 in /usr/local/lib/python3.10/dist-packages (from httpcore==1.*->httpx<1,>=0.23.0->openai==1.12.0) (0.14.0)\n",
            "Requirement already satisfied: annotated-types>=0.4.0 in /usr/local/lib/python3.10/dist-packages (from pydantic<3,>=1.9.0->openai==1.12.0) (0.6.0)\n",
            "Requirement already satisfied: pydantic-core==2.16.2 in /usr/local/lib/python3.10/dist-packages (from pydantic<3,>=1.9.0->openai==1.12.0) (2.16.2)\n"
          ]
        }
      ]
    },
    {
      "cell_type": "code",
      "source": [
        "from google.colab import drive"
      ],
      "metadata": {
        "id": "NraObN-UvZGP"
      },
      "execution_count": null,
      "outputs": []
    },
    {
      "cell_type": "code",
      "source": [
        "drive.mount(\"/content/drive\")"
      ],
      "metadata": {
        "colab": {
          "base_uri": "https://localhost:8080/"
        },
        "id": "2y24A65Ovd2R",
        "outputId": "5e095fac-be0b-4562-aada-15e881f8a6d5"
      },
      "execution_count": null,
      "outputs": [
        {
          "output_type": "stream",
          "name": "stdout",
          "text": [
            "Mounted at /content/drive\n"
          ]
        }
      ]
    },
    {
      "cell_type": "code",
      "source": [
        "import sys\n",
        "sys.path.append(\"/content/drive/MyDrive\")"
      ],
      "metadata": {
        "id": "ZQiSHWPxviA1"
      },
      "execution_count": null,
      "outputs": []
    },
    {
      "cell_type": "code",
      "source": [
        "from constant_keys import *"
      ],
      "metadata": {
        "id": "j4Y0EzCYvrpT"
      },
      "execution_count": null,
      "outputs": []
    },
    {
      "cell_type": "code",
      "source": [
        "import os\n",
        "os.environ[\"OPENAI_API_KEY\"] = OPENAI_API_KEY"
      ],
      "metadata": {
        "id": "Ik4CT5pAvudn"
      },
      "execution_count": null,
      "outputs": []
    },
    {
      "cell_type": "code",
      "source": [
        "import openai\n",
        "from pathlib import Path\n",
        "from openai import OpenAI"
      ],
      "metadata": {
        "id": "6tFtggxnv1nu"
      },
      "execution_count": null,
      "outputs": []
    },
    {
      "cell_type": "code",
      "source": [
        "client = OpenAI()"
      ],
      "metadata": {
        "id": "gLE0gCgzv4xH"
      },
      "execution_count": null,
      "outputs": []
    },
    {
      "cell_type": "code",
      "source": [
        "file_handler = client.files.create(\n",
        "    file=Path('/content/output_v2.jsonl'),\n",
        "    purpose=\"fine-tune\"\n",
        ")"
      ],
      "metadata": {
        "id": "71Ds5V8ov4zJ"
      },
      "execution_count": null,
      "outputs": []
    },
    {
      "cell_type": "code",
      "source": [
        "file_handler"
      ],
      "metadata": {
        "colab": {
          "base_uri": "https://localhost:8080/"
        },
        "id": "aenn7d26wNg9",
        "outputId": "0964d3d0-8c34-484c-df81-9670fbf96c74"
      },
      "execution_count": null,
      "outputs": [
        {
          "output_type": "execute_result",
          "data": {
            "text/plain": [
              "FileObject(id='file-KnrsXmkLjgQffCFtbQ4Zc1Zt', bytes=157859, created_at=1708084284, filename='output_v2.jsonl', object='file', purpose='fine-tune', status='processed', status_details=None)"
            ]
          },
          "metadata": {},
          "execution_count": 22
        }
      ]
    },
    {
      "cell_type": "code",
      "source": [
        "new_model_handler = client.fine_tuning.jobs.create(\n",
        "    training_file=\"file-KnrsXmkLjgQffCFtbQ4Zc1Zt\",\n",
        "    model=\"gpt-3.5-turbo\",\n",
        "    hyperparameters={\n",
        "        \"n_epochs\": 1\n",
        "    }\n",
        ")"
      ],
      "metadata": {
        "id": "JL4q4XihwNjA"
      },
      "execution_count": null,
      "outputs": []
    },
    {
      "cell_type": "code",
      "source": [
        "new_model_handler"
      ],
      "metadata": {
        "id": "FeCgAx46wNlW"
      },
      "execution_count": null,
      "outputs": []
    },
    {
      "cell_type": "code",
      "source": [
        "client.fine_tuning.jobs.retrieve(\"ftjob-OWR3KoUWOpKvnyMKnkNzgoxT\")"
      ],
      "metadata": {
        "id": "j2M_Y2J4wNte"
      },
      "execution_count": null,
      "outputs": []
    },
    {
      "cell_type": "code",
      "source": [],
      "metadata": {
        "id": "US-q6aDwv41w"
      },
      "execution_count": null,
      "outputs": []
    },
    {
      "cell_type": "code",
      "source": [
        "client_v1 = OpenAI()"
      ],
      "metadata": {
        "id": "ZVyIG2bpxb33"
      },
      "execution_count": null,
      "outputs": []
    },
    {
      "cell_type": "code",
      "source": [
        "completion = client.chat.completions.create(\n",
        "    model=\"ft:gpt-3.5-turbo-0613:tagrail::8srAvzIb\",\n",
        "    messages=[\n",
        "        {\n",
        "            \"role\": \"system\", \"content\": \"Healthcare Chatbot\"\n",
        "        },\n",
        "        {\n",
        "            \"role\": \"user\", \"content\": \"Hi doctor, i am down with fever?\"\n",
        "        }\n",
        "    ]\n",
        ")"
      ],
      "metadata": {
        "id": "g21bpJYrxb_1"
      },
      "execution_count": null,
      "outputs": []
    },
    {
      "cell_type": "code",
      "source": [
        "print(completion.choices[0].message.content)"
      ],
      "metadata": {
        "colab": {
          "base_uri": "https://localhost:8080/"
        },
        "id": "GVkmxZK2x7EZ",
        "outputId": "7fe572c7-e225-4b4f-bfcd-d0c319062e2c"
      },
      "execution_count": null,
      "outputs": [
        {
          "output_type": "stream",
          "name": "stdout",
          "text": [
            "Hello. My dear, some persons including yourself are immune to the current variant of the flu that is going around. So there is hope that you will be immune to this one too. Hurdle of viral flu is that it has got its variants that change fast. This makes it sometimes different those vaccinated persons are protected against and those not vaccinated are dying like flies. This year the committee had an exaggerated fear of swine flu they had exaggerated titillated response, hence creating a widows, small children, and grandparents against swine flu. We seem to be an Asian continent facing losses and losses in every epidemic, hence H1N1 has been underestimated by the West. It is just exaggeration and our Asian indecisiveness. Now you do not take Tamiflu, you do not take any fever reducers, in fact, you let fever reach 103 if it does not by itself then only take a single dose of paracetamol. As you know I am a great fan of indigenous remedies for respiratory infective, eating raw garlic 5 gm at one time, eating ginger, leaving dairy product, taking fennel seeds, saline water gargles, steam inhalation, turmeric in milk, hot chicken soup never, never be afraid of fever, fever is your best friend. Nothing can grow in our body if we have the help of just fever, except that when fever crosses 107 human thinks that is going to die. U are right bilirubin level is raised that is why you are itching. Do not take HCQS, dolo 650 is okay if the temp of 1004 continues after 4 hours of taking paracetamol, repeat dose. Also, do not take milk, take plenty of plain water no cold water if you wish to add lemon and honey that is okay, rest, and sleep well. Repeat complete blood count (CBC), SGPT and Bilirubin on Monday. Also, plasma virologic (RT-PCR posted on Saturday by the way I like) I do not want to get drunk by you but you need to obey since you have just 1 liver, unlike the transplants who will enjoy an ample amount of livers in the icebox after liver's car crashes so they are free to intoxicate as much as they want since true ecstasy is not possible in the absence of alcohol.  \n"
          ]
        }
      ]
    }
  ]
}